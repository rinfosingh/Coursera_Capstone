{
 "cells": [
  {
   "cell_type": "markdown",
   "metadata": {
    "collapsed": true
   },
   "source": [
    "# Introduction\n",
    "\n",
    "#### Road safety is one of the main concerns for every government in the world. Approximately 1.35 million people die in road crashes each year, on average 3,700 people lose their lives every day on the roads, while 20–50 million people suffer non-fatal injuries (resulting in long-term disabilities). For the United States, the road crash is also a security risk for drivers and pedestrian. More than 38,000 people die every year in crashes on U.S. roadways. The traffic fatality rate is 12.4 deaths per 100,000 inhabitants and the terrible traffic security condition also cause 4.4 million people suffering from serious injure. The economic and societal damages of this single problem cost every citizen 871 billion dollars. To ease the harsh traffic security issue and offer a solution for the relevant department in the U.S. government, a prediction for the severity of car accidents and a detailed data analysis is crucial for the policymaker. With the relevant data, I could use data science techniques to explore the incident severity in Python. The core aim of this report is to locate the key factor that leads to an incident in Seattle, as well as to offer some basic descriptions about the Seattle traffic incidents. To achieve this target, this report will present the answers to several issues. I shall start with the location of the incident on the map and the hot areas for the incident; then I will turn to the exploratory analysis for the collision type, location type and severity (the incident scale); in the end, I would build up a model to analyze the factors which may affect the incident severity."
   ]
  },
  {
   "cell_type": "markdown",
   "metadata": {},
   "source": [
    "#### With the relevant data, I could use data science techniques to explore the incident severity in Python. The core aim of this report is to locate the key factor that leads to an incident in Seattle, as well as to offer some basic descriptions about the Seattle traffic incidents. To achieve this target, this report will present the answers to several issues. I shall start with the location of the incident on the map and the hot areas for the incident; then I will turn to the exploratory analysis for the collision type, location type and severity (the incident scale); in the end, I would build up a model to analyze the factors which may affect the incident severity."
   ]
  },
  {
   "cell_type": "markdown",
   "metadata": {},
   "source": [
    "# Data Description\n",
    "#### I will utilize some database to acquire data.\n",
    "\n",
    "##### The data has been taken from  Coursera Course Applied Data Science Capstone. The .csv file contains 19,4673 pieces of collision records of Seattle. The data for this capstone project is offered by the SDOT Traffic Management Division and recorded by Traffic Records Group. It covers the annual collisions data from 2004 to the present. The time-frequency of this dataset is weekly and it shows the traffic collision records in Seattle. The example datasets contain 194,673 pieces of records starting from 2004. The attributes in the datasets cover the weather condition, road condition, collision type and fatality. · The other relevant data comes from the database of Seattle government. The main data source is from the Seattle Department of Transportation. The basic background information is offered by this department."
   ]
  },
  {
   "cell_type": "markdown",
   "metadata": {},
   "source": [
    "## Data Exploration\n",
    "#### This sub-section presents the exploratory data analysis for the example dataset from Coursera Course Applied Data Science Capstone. After the primary data cleaning procedure, the remaining useful attributes cover the collision type, address type, severity description, collision scales and potential factors of the collision (weather, speed, road condition, light condition and so on). The following data description comes from all remained data attributes. Since 2004, the number of collisions has remained at a high level. \n",
    "\n",
    "## Exploratory data analysis\n",
    "#### To analyze the main factors for the collision, this section provides the primary exploratory analysis for the dataset. It shows how the collision type, weather, junction type and other attributes affect the collision severity\n",
    "\n",
    "## Methodology to be used\n",
    "\n",
    "### Dropping all the irrelevant variables and attributes\n",
    "#### Dealing with missing data\n",
    "#### Dataset balancing procedure\n",
    "#### Creating the dummies variables from the categorical attributes\n",
    "#### Creating the training and testing subsets for the algorithms and data normalization\n",
    "#### Applying machine learning algorithms\n",
    "#### The comparison for accuracy of each algorithm"
   ]
  },
  {
   "cell_type": "code",
   "execution_count": null,
   "metadata": {},
   "outputs": [],
   "source": []
  }
 ],
 "metadata": {
  "kernelspec": {
   "display_name": "Python 3.6",
   "language": "python",
   "name": "python3"
  },
  "language_info": {
   "codemirror_mode": {
    "name": "ipython",
    "version": 3
   },
   "file_extension": ".py",
   "mimetype": "text/x-python",
   "name": "python",
   "nbconvert_exporter": "python",
   "pygments_lexer": "ipython3",
   "version": "3.6.9"
  }
 },
 "nbformat": 4,
 "nbformat_minor": 1
}
